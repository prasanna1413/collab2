{
 "cells": [
  {
   "cell_type": "code",
   "execution_count": null,
   "metadata": {},
   "outputs": [],
   "source": [
    "# Function to test two digit number matching\n",
    "import re\n",
    "def twodigitmarching(n):\n",
    "    pattern = '^[0-9]{2}$'\n",
    "    n = str(n)\n",
    "    if re.match(pattern,n):\n",
    "        return True\n",
    "    return False\n",
    "print(twodigitmatching(12)) # True\n",
    "print(twodigitmatching(123)) # False"
   ]
  },
  {
   "cell_type": "markdown",
   "metadata": {},
   "source": [
    "#!/usr/bin/env python\n",
    "# coding: utf-8\n",
    "\n",
    "#    REGULAR EXPRESSION\n",
    "# pattren matching\n",
    "# pattren(re) package\n",
    "# [0-9]--> any digit matching\n",
    "# --> two digit number(^[0-9]{2}$) --> five digit number[(0-9)5]\n",
    "\n",
    "# ### REGULAR EXPRESSION FOR CHARACTERS\n",
    "# - [a-z]-->any lower case characters\n",
    "# - [A-Z]-->any upper case characters\n",
    "# - ^[a-z]{5}$ --> it accept 5 lower characters\n",
    "# ​\n",
    "# - ^[a-zA-Z]{8}$-->accepts 8 characters can be anything lower and upper\n",
    "# ​\n",
    "# - ^[a-zA-Z0-9]{8}$--> Accept 8characters can be anything lower upper and digit\n"
   ]
  },
  {
   "cell_type": "code",
   "execution_count": 4,
   "metadata": {},
   "outputs": [
    {
     "name": "stdout",
     "output_type": "stream",
     "text": [
      "True\n",
      "False\n"
     ]
    }
   ],
   "source": [
    "# function to test two digit number matching\n",
    "import re\n",
    "def twodigitmatching(n):\n",
    "   pattren = '^[0-9]{2}$'\n",
    "   n=str(n)\n",
    "   if re.match(pattren,n):\n",
    "       return True\n",
    "   return False\n",
    "print(twodigitmatching(12)) # True\n",
    "print(twodigitmatching(123)) # False"
   ]
  },
  {
   "cell_type": "code",
   "execution_count": 5,
   "metadata": {},
   "outputs": [
    {
     "name": "stdout",
     "output_type": "stream",
     "text": [
      "True\n",
      "False\n"
     ]
    }
   ],
   "source": [
    "# function to test two digit number matching\n",
    "import re\n",
    "def twodigitmatching(n):\n",
    "   pattren = '^[0-9]{2}$'\n",
    "   n=str(n)\n",
    "   if re.match(pattren,n):\n",
    "       return True\n",
    "   return False\n",
    "print(twodigitmatching(12)) # True\n",
    "print(twodigitmatching(123)) # False"
   ]
  },
  {
   "cell_type": "code",
   "execution_count": 6,
   "metadata": {},
   "outputs": [
    {
     "name": "stdout",
     "output_type": "stream",
     "text": [
      "False\n",
      "False\n"
     ]
    }
   ],
   "source": [
    "# function to define to test username having 8 characters\n",
    "# upper case and lower\n",
    "def testusername(s):\n",
    "   pattern='^(a-zA-Z){8}$'\n",
    "   if re.match(pattern,s):\n",
    "       return True\n",
    "   return False\n",
    "print(testusername('GitamHYD'))\n",
    "print(testusername('Gitam188'))"
   ]
  },
  {
   "cell_type": "code",
   "execution_count": 7,
   "metadata": {},
   "outputs": [],
   "source": [
    "#     -- Regular expression to validate the rollnumber\n",
    "#    \n",
    "#   Example : 1521A0501\n",
    "#   Example : 1521A0109\n",
    "#   Example : 1521A0499\n",
    "#   \n",
    "#     -- Regular expression to validate the passward\n",
    "# \n",
    "#   parameters : len min of 6 characters and max of 15 characters\n",
    "#   Accept Lower case, upper case, digits, splchar(@ ,#,$,!)"
   ]
  },
  {
   "cell_type": "code",
   "execution_count": 8,
   "metadata": {},
   "outputs": [
    {
     "data": {
      "text/plain": [
       "True"
      ]
     },
     "execution_count": 8,
     "metadata": {},
     "output_type": "execute_result"
    }
   ],
   "source": [
    "# function to validate the indian mobile number\n",
    "def phonenumbervalidation(phone):\n",
    "    pattern = '^[+][9][1][6-9][0-9]{9}$|^[0][6-9][0-9]{9}$|^[6-9][0-9]{9}$'\n",
    "    phone = str(phone)\n",
    "    if re.match(pattern,phone):\n",
    "        return True\n",
    "    return False\n",
    "phonenumbervalidation('9988774455')"
   ]
  },
  {
   "cell_type": "code",
   "execution_count": 9,
   "metadata": {},
   "outputs": [
    {
     "name": "stdout",
     "output_type": "stream",
     "text": [
      "False\n",
      "False\n"
     ]
    }
   ],
   "source": [
    "# function to define to test username having 8 characters\n",
    "# upper case and lower\n",
    "def testusername(s):\n",
    "    pattern='^(a-zA-Z){8}$'\n",
    "    if re.match(pattern,s):\n",
    "        return True\n",
    "    return False\n",
    "print(testusername('GitamHYD'))\n",
    "print(testusername('Gitam188'))"
   ]
  },
  {
   "cell_type": "code",
   "execution_count": null,
   "metadata": {},
   "outputs": [],
   "source": []
  }
 ],
 "metadata": {
  "kernelspec": {
   "display_name": "Python 3",
   "language": "python",
   "name": "python3"
  },
  "language_info": {
   "codemirror_mode": {
    "name": "ipython",
    "version": 3
   },
   "file_extension": ".py",
   "mimetype": "text/x-python",
   "name": "python",
   "nbconvert_exporter": "python",
   "pygments_lexer": "ipython3",
   "version": "3.7.3"
  }
 },
 "nbformat": 4,
 "nbformat_minor": 2
}
